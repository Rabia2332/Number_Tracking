{
 "cells": [
  {
   "cell_type": "code",
   "execution_count": 21,
   "metadata": {},
   "outputs": [
    {
     "name": "stdout",
     "output_type": "stream",
     "text": [
      "Requirement already satisfied: phonenumbers in s:\\programming\\machine_l\\electricity_price\\electricity_price\\.venv\\lib\\site-packages (8.13.9)\n"
     ]
    }
   ],
   "source": [
    "! pip install phonenumbers"
   ]
  },
  {
   "cell_type": "code",
   "execution_count": 22,
   "metadata": {},
   "outputs": [],
   "source": [
    "import phonenumbers\n",
    "from phonenumbers import timezone, geocoder, carrier "
   ]
  },
  {
   "cell_type": "code",
   "execution_count": 23,
   "metadata": {},
   "outputs": [
    {
     "name": "stdout",
     "output_type": "stream",
     "text": [
      "Phone Number:  +49 176 47134091\n",
      "Parsed Number:  Country Code: 49 National Number: 17647134091\n",
      "Timezones:  ('Europe/Berlin',)\n",
      "sim_details:  O2\n",
      "Geolocation:  Germany\n"
     ]
    }
   ],
   "source": [
    "number = input('Enter your phonenumber: ')\n",
    "phone = phonenumbers.parse(number)\n",
    "time = timezone.time_zones_for_geographical_number(phone)\n",
    "sim_details = carrier.name_for_number(phone,'en')\n",
    "register = geocoder.description_for_number(phone,'en')\n",
    "#name_info = phonenumbers.is_possible_name_number(phone)\n",
    "\n",
    "# Print the retrieved information\n",
    "print(\"Phone Number: \", number)\n",
    "print(\"Parsed Number: \", phone)\n",
    "print(\"Timezones: \", time)\n",
    "print(\"sim_details: \", sim_details)\n",
    "print(\"Geolocation: \", register)\n",
    "#print(\"Possible Name: \", name_info)"
   ]
  }
 ],
 "metadata": {
  "kernelspec": {
   "display_name": ".venv",
   "language": "python",
   "name": "python3"
  },
  "language_info": {
   "codemirror_mode": {
    "name": "ipython",
    "version": 3
   },
   "file_extension": ".py",
   "mimetype": "text/x-python",
   "name": "python",
   "nbconvert_exporter": "python",
   "pygments_lexer": "ipython3",
   "version": "3.10.11"
  },
  "orig_nbformat": 4
 },
 "nbformat": 4,
 "nbformat_minor": 2
}
